{
 "cells": [
  {
   "cell_type": "markdown",
   "id": "487543ef-3d91-4e98-80fd-3a6229db8ef3",
   "metadata": {},
   "source": [
    "## Import Data"
   ]
  },
  {
   "cell_type": "code",
   "execution_count": 24,
   "id": "f80cc55a-7c67-486a-bec8-fc666d1f41a0",
   "metadata": {},
   "outputs": [],
   "source": [
    "import sys\n",
    "import os\n",
    "sys.path.append(os.path.abspath('../app'))\n",
    "\n",
    "from data import Database"
   ]
  },
  {
   "cell_type": "code",
   "execution_count": 25,
   "id": "ae035b7d-670d-415d-938e-7f82226401c1",
   "metadata": {},
   "outputs": [
    {
     "data": {
      "text/html": [
       "<div>\n",
       "<style scoped>\n",
       "    .dataframe tbody tr th:only-of-type {\n",
       "        vertical-align: middle;\n",
       "    }\n",
       "\n",
       "    .dataframe tbody tr th {\n",
       "        vertical-align: top;\n",
       "    }\n",
       "\n",
       "    .dataframe thead th {\n",
       "        text-align: right;\n",
       "    }\n",
       "</style>\n",
       "<table border=\"1\" class=\"dataframe\">\n",
       "  <thead>\n",
       "    <tr style=\"text-align: right;\">\n",
       "      <th></th>\n",
       "      <th>Name</th>\n",
       "      <th>Type</th>\n",
       "      <th>Level</th>\n",
       "      <th>Rarity</th>\n",
       "      <th>Damage</th>\n",
       "      <th>Health</th>\n",
       "      <th>Energy</th>\n",
       "      <th>Sanity</th>\n",
       "      <th>Timestamp</th>\n",
       "    </tr>\n",
       "  </thead>\n",
       "  <tbody>\n",
       "    <tr>\n",
       "      <th>0</th>\n",
       "      <td>Faerie Dragon</td>\n",
       "      <td>Dragon</td>\n",
       "      <td>4</td>\n",
       "      <td>Rank 3</td>\n",
       "      <td>4d8+3</td>\n",
       "      <td>31.53</td>\n",
       "      <td>33.88</td>\n",
       "      <td>29.55</td>\n",
       "      <td>2024-03-28 14:22:54</td>\n",
       "    </tr>\n",
       "    <tr>\n",
       "      <th>1</th>\n",
       "      <td>Hell Hound</td>\n",
       "      <td>Demonic</td>\n",
       "      <td>1</td>\n",
       "      <td>Rank 3</td>\n",
       "      <td>1d8</td>\n",
       "      <td>5.44</td>\n",
       "      <td>10.65</td>\n",
       "      <td>6.87</td>\n",
       "      <td>2024-03-28 14:22:54</td>\n",
       "    </tr>\n",
       "    <tr>\n",
       "      <th>2</th>\n",
       "      <td>Kobold Knight</td>\n",
       "      <td>Devilkin</td>\n",
       "      <td>9</td>\n",
       "      <td>Rank 4</td>\n",
       "      <td>9d10</td>\n",
       "      <td>90.11</td>\n",
       "      <td>88.39</td>\n",
       "      <td>90.53</td>\n",
       "      <td>2024-03-28 14:22:54</td>\n",
       "    </tr>\n",
       "    <tr>\n",
       "      <th>3</th>\n",
       "      <td>Flame Elemental</td>\n",
       "      <td>Elemental</td>\n",
       "      <td>8</td>\n",
       "      <td>Rank 1</td>\n",
       "      <td>8d4</td>\n",
       "      <td>32.98</td>\n",
       "      <td>32.94</td>\n",
       "      <td>31.27</td>\n",
       "      <td>2024-03-28 14:22:54</td>\n",
       "    </tr>\n",
       "    <tr>\n",
       "      <th>4</th>\n",
       "      <td>Wyvern</td>\n",
       "      <td>Dragon</td>\n",
       "      <td>6</td>\n",
       "      <td>Rank 4</td>\n",
       "      <td>6d10</td>\n",
       "      <td>63.24</td>\n",
       "      <td>62.92</td>\n",
       "      <td>61.66</td>\n",
       "      <td>2024-03-28 14:22:54</td>\n",
       "    </tr>\n",
       "  </tbody>\n",
       "</table>\n",
       "</div>"
      ],
      "text/plain": [
       "              Name       Type  Level  Rarity Damage  Health  Energy  Sanity  \\\n",
       "0    Faerie Dragon     Dragon      4  Rank 3  4d8+3   31.53   33.88   29.55   \n",
       "1       Hell Hound    Demonic      1  Rank 3    1d8    5.44   10.65    6.87   \n",
       "2    Kobold Knight   Devilkin      9  Rank 4   9d10   90.11   88.39   90.53   \n",
       "3  Flame Elemental  Elemental      8  Rank 1    8d4   32.98   32.94   31.27   \n",
       "4           Wyvern     Dragon      6  Rank 4   6d10   63.24   62.92   61.66   \n",
       "\n",
       "             Timestamp  \n",
       "0  2024-03-28 14:22:54  \n",
       "1  2024-03-28 14:22:54  \n",
       "2  2024-03-28 14:22:54  \n",
       "3  2024-03-28 14:22:54  \n",
       "4  2024-03-28 14:22:54  "
      ]
     },
     "execution_count": 25,
     "metadata": {},
     "output_type": "execute_result"
    }
   ],
   "source": [
    "db = Database(\"monsters\")\n",
    "df = db.dataframe()\n",
    "df.head()"
   ]
  },
  {
   "cell_type": "markdown",
   "id": "f29c04ee-ad33-4a45-b7fc-0e5eb0168972",
   "metadata": {},
   "source": [
    "## Split Data"
   ]
  },
  {
   "cell_type": "code",
   "execution_count": 26,
   "id": "aaac4654-1a96-4ed4-80c9-c5361cf4b6df",
   "metadata": {},
   "outputs": [],
   "source": [
    "from sklearn.model_selection import train_test_split"
   ]
  },
  {
   "cell_type": "code",
   "execution_count": 27,
   "id": "541433a4-ad8e-4724-9507-4d274da8799e",
   "metadata": {},
   "outputs": [],
   "source": [
    "X = df[['Health', 'Energy', 'Sanity']]\n",
    "y = df['Rarity']"
   ]
  },
  {
   "cell_type": "code",
   "execution_count": 28,
   "id": "d7075de9-d362-46d2-a229-b2775bae6d08",
   "metadata": {},
   "outputs": [],
   "source": [
    "X_train, X_test, y_train, y_test = train_test_split(X, y, test_size=0.2, random_state=42)"
   ]
  },
  {
   "cell_type": "markdown",
   "id": "f0a12cb5-b13d-415a-83e5-67e761274be1",
   "metadata": {},
   "source": [
    "## Establish Baseline"
   ]
  },
  {
   "cell_type": "code",
   "execution_count": 31,
   "id": "75973289-cd12-498b-a07c-834608dac7ce",
   "metadata": {},
   "outputs": [],
   "source": [
    "from sklearn.dummy import DummyClassifier"
   ]
  },
  {
   "cell_type": "code",
   "execution_count": 32,
   "id": "fcce72d9-8e03-4121-9ed6-77646843b781",
   "metadata": {},
   "outputs": [
    {
     "name": "stdout",
     "output_type": "stream",
     "text": [
      "Training Accuracy: 0.29\n",
      "Test Accuracy: 0.32\n"
     ]
    }
   ],
   "source": [
    "dummy_model = DummyClassifier(strategy='most_frequent', random_state=42)\n",
    "dummy_model.fit(X_train, y_train)\n",
    "print(\"Training Accuracy: {:.2f}\".format(dummy_model.score(X_train, y_train)))\n",
    "print(\"Test Accuracy: {:.2f}\".format(dummy_model.score(X_test, y_test)))"
   ]
  },
  {
   "cell_type": "markdown",
   "id": "aefc73de-3074-4e1b-8c07-998d93252f95",
   "metadata": {},
   "source": [
    "## Model 1: Random Forest"
   ]
  },
  {
   "cell_type": "code",
   "execution_count": null,
   "id": "9d591fb6-262a-48f1-8c2d-eef6c086ddd9",
   "metadata": {},
   "outputs": [],
   "source": [
    "from sklearn.ensemble import RandomForestClassifier"
   ]
  },
  {
   "cell_type": "code",
   "execution_count": 33,
   "id": "50605d0b-26ae-40fe-9297-5fe4ff5bd5a7",
   "metadata": {},
   "outputs": [
    {
     "name": "stdout",
     "output_type": "stream",
     "text": [
      "Training Accuracy: 1.00\n",
      "Test Accuracy: 0.52\n"
     ]
    }
   ],
   "source": [
    "rf_model = RandomForestClassifier(n_estimators=100, random_state=42)\n",
    "rf_model.fit(X_train, y_train)\n",
    "print(\"Training Accuracy: {:.2f}\".format(rf_model.score(X_train, y_train)))\n",
    "print(\"Test Accuracy: {:.2f}\".format(rf_model.score(X_test, y_test)))"
   ]
  },
  {
   "cell_type": "markdown",
   "id": "d2e96e7b-49f9-4aed-92dd-887d6380b926",
   "metadata": {},
   "source": [
    "## Model 2: Gradient Boosting"
   ]
  },
  {
   "cell_type": "code",
   "execution_count": 34,
   "id": "516781a9-7061-4be6-a56a-6ca8cfac8a13",
   "metadata": {},
   "outputs": [],
   "source": [
    "from sklearn.ensemble import GradientBoostingClassifier"
   ]
  },
  {
   "cell_type": "code",
   "execution_count": 35,
   "id": "23a47846-ece0-410a-bc61-f111a6927ea5",
   "metadata": {},
   "outputs": [
    {
     "name": "stdout",
     "output_type": "stream",
     "text": [
      "Training Accuracy: 0.92\n",
      "Test Accuracy: 0.48\n"
     ]
    }
   ],
   "source": [
    "gb_model = GradientBoostingClassifier(random_state=42)\n",
    "gb_model.fit(X_train, y_train)\n",
    "print(\"Training Accuracy: {:.2f}\".format(gb_model.score(X_train, y_train)))\n",
    "print(\"Test Accuracy: {:.2f}\".format(gb_model.score(X_test, y_test)))"
   ]
  },
  {
   "cell_type": "markdown",
   "id": "7d197324-687c-4684-ae9a-8cac0ff59b41",
   "metadata": {},
   "source": [
    "## Model 3: Logistic Regression"
   ]
  },
  {
   "cell_type": "code",
   "execution_count": 36,
   "id": "bd12bd47-4024-4760-ace2-bad5e977c38e",
   "metadata": {},
   "outputs": [],
   "source": [
    "from sklearn.linear_model import LogisticRegression"
   ]
  },
  {
   "cell_type": "code",
   "execution_count": 37,
   "id": "1406ef8b-a241-486d-98b7-a9c4e4c68ba6",
   "metadata": {},
   "outputs": [
    {
     "name": "stdout",
     "output_type": "stream",
     "text": [
      "Training Accuracy: 0.45\n",
      "Test Accuracy: 0.46\n"
     ]
    },
    {
     "name": "stderr",
     "output_type": "stream",
     "text": [
      "/home/anthony/Clones/pyenv/versions/Bandersnatch/lib/python3.12/site-packages/sklearn/linear_model/_logistic.py:469: ConvergenceWarning: lbfgs failed to converge (status=1):\n",
      "STOP: TOTAL NO. of ITERATIONS REACHED LIMIT.\n",
      "\n",
      "Increase the number of iterations (max_iter) or scale the data as shown in:\n",
      "    https://scikit-learn.org/stable/modules/preprocessing.html\n",
      "Please also refer to the documentation for alternative solver options:\n",
      "    https://scikit-learn.org/stable/modules/linear_model.html#logistic-regression\n",
      "  n_iter_i = _check_optimize_result(\n"
     ]
    }
   ],
   "source": [
    "lr_model = LogisticRegression(multi_class='multinomial', solver='lbfgs', max_iter=1000, random_state=42)\n",
    "lr_model.fit(X_train, y_train)\n",
    "print(\"Training Accuracy: {:.2f}\".format(lr_model.score(X_train, y_train)))\n",
    "print(\"Test Accuracy: {:.2f}\".format(lr_model.score(X_test, y_test)))"
   ]
  },
  {
   "cell_type": "code",
   "execution_count": null,
   "id": "870f69a3-8b38-4eaa-8d87-925570d98040",
   "metadata": {},
   "outputs": [],
   "source": []
  }
 ],
 "metadata": {
  "kernelspec": {
   "display_name": "Bandersnatch",
   "language": "python",
   "name": "bandersnatch"
  },
  "language_info": {
   "codemirror_mode": {
    "name": "ipython",
    "version": 3
   },
   "file_extension": ".py",
   "mimetype": "text/x-python",
   "name": "python",
   "nbconvert_exporter": "python",
   "pygments_lexer": "ipython3",
   "version": "3.12.0"
  }
 },
 "nbformat": 4,
 "nbformat_minor": 5
}
