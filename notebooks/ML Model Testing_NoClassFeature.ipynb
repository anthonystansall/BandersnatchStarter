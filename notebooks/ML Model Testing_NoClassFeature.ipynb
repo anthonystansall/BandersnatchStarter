{
 "cells": [
  {
   "cell_type": "markdown",
   "id": "487543ef-3d91-4e98-80fd-3a6229db8ef3",
   "metadata": {},
   "source": [
    "## Import Data"
   ]
  },
  {
   "cell_type": "code",
   "execution_count": 3,
   "id": "f80cc55a-7c67-486a-bec8-fc666d1f41a0",
   "metadata": {},
   "outputs": [],
   "source": [
    "import sys\n",
    "import os\n",
    "sys.path.append(os.path.abspath('../app'))\n",
    "\n",
    "import pandas as pd\n",
    "\n",
    "from data import Database"
   ]
  },
  {
   "cell_type": "code",
   "execution_count": 4,
   "id": "ae035b7d-670d-415d-938e-7f82226401c1",
   "metadata": {},
   "outputs": [
    {
     "data": {
      "text/html": [
       "<div>\n",
       "<style scoped>\n",
       "    .dataframe tbody tr th:only-of-type {\n",
       "        vertical-align: middle;\n",
       "    }\n",
       "\n",
       "    .dataframe tbody tr th {\n",
       "        vertical-align: top;\n",
       "    }\n",
       "\n",
       "    .dataframe thead th {\n",
       "        text-align: right;\n",
       "    }\n",
       "</style>\n",
       "<table border=\"1\" class=\"dataframe\">\n",
       "  <thead>\n",
       "    <tr style=\"text-align: right;\">\n",
       "      <th></th>\n",
       "      <th>Name</th>\n",
       "      <th>Type</th>\n",
       "      <th>Level</th>\n",
       "      <th>Rarity</th>\n",
       "      <th>Damage</th>\n",
       "      <th>Health</th>\n",
       "      <th>Energy</th>\n",
       "      <th>Sanity</th>\n",
       "      <th>Timestamp</th>\n",
       "    </tr>\n",
       "  </thead>\n",
       "  <tbody>\n",
       "    <tr>\n",
       "      <th>0</th>\n",
       "      <td>Faerie Dragon</td>\n",
       "      <td>Dragon</td>\n",
       "      <td>4</td>\n",
       "      <td>Rank 3</td>\n",
       "      <td>4d8+3</td>\n",
       "      <td>31.53</td>\n",
       "      <td>33.88</td>\n",
       "      <td>29.55</td>\n",
       "      <td>2024-03-28 14:22:54</td>\n",
       "    </tr>\n",
       "    <tr>\n",
       "      <th>1</th>\n",
       "      <td>Hell Hound</td>\n",
       "      <td>Demonic</td>\n",
       "      <td>1</td>\n",
       "      <td>Rank 3</td>\n",
       "      <td>1d8</td>\n",
       "      <td>5.44</td>\n",
       "      <td>10.65</td>\n",
       "      <td>6.87</td>\n",
       "      <td>2024-03-28 14:22:54</td>\n",
       "    </tr>\n",
       "    <tr>\n",
       "      <th>2</th>\n",
       "      <td>Kobold Knight</td>\n",
       "      <td>Devilkin</td>\n",
       "      <td>9</td>\n",
       "      <td>Rank 4</td>\n",
       "      <td>9d10</td>\n",
       "      <td>90.11</td>\n",
       "      <td>88.39</td>\n",
       "      <td>90.53</td>\n",
       "      <td>2024-03-28 14:22:54</td>\n",
       "    </tr>\n",
       "    <tr>\n",
       "      <th>3</th>\n",
       "      <td>Flame Elemental</td>\n",
       "      <td>Elemental</td>\n",
       "      <td>8</td>\n",
       "      <td>Rank 1</td>\n",
       "      <td>8d4</td>\n",
       "      <td>32.98</td>\n",
       "      <td>32.94</td>\n",
       "      <td>31.27</td>\n",
       "      <td>2024-03-28 14:22:54</td>\n",
       "    </tr>\n",
       "    <tr>\n",
       "      <th>4</th>\n",
       "      <td>Wyvern</td>\n",
       "      <td>Dragon</td>\n",
       "      <td>6</td>\n",
       "      <td>Rank 4</td>\n",
       "      <td>6d10</td>\n",
       "      <td>63.24</td>\n",
       "      <td>62.92</td>\n",
       "      <td>61.66</td>\n",
       "      <td>2024-03-28 14:22:54</td>\n",
       "    </tr>\n",
       "  </tbody>\n",
       "</table>\n",
       "</div>"
      ],
      "text/plain": [
       "              Name       Type  Level  Rarity Damage  Health  Energy  Sanity  \\\n",
       "0    Faerie Dragon     Dragon      4  Rank 3  4d8+3   31.53   33.88   29.55   \n",
       "1       Hell Hound    Demonic      1  Rank 3    1d8    5.44   10.65    6.87   \n",
       "2    Kobold Knight   Devilkin      9  Rank 4   9d10   90.11   88.39   90.53   \n",
       "3  Flame Elemental  Elemental      8  Rank 1    8d4   32.98   32.94   31.27   \n",
       "4           Wyvern     Dragon      6  Rank 4   6d10   63.24   62.92   61.66   \n",
       "\n",
       "             Timestamp  \n",
       "0  2024-03-28 14:22:54  \n",
       "1  2024-03-28 14:22:54  \n",
       "2  2024-03-28 14:22:54  \n",
       "3  2024-03-28 14:22:54  \n",
       "4  2024-03-28 14:22:54  "
      ]
     },
     "execution_count": 4,
     "metadata": {},
     "output_type": "execute_result"
    }
   ],
   "source": [
    "db = Database(\"monsters\")\n",
    "df = db.dataframe()\n",
    "df.head()"
   ]
  },
  {
   "cell_type": "markdown",
   "id": "4e179c21-c9c4-488d-b9ad-61fe3ad82bcf",
   "metadata": {},
   "source": [
    "## Split Data"
   ]
  },
  {
   "cell_type": "code",
   "execution_count": 6,
   "id": "aaac4654-1a96-4ed4-80c9-c5361cf4b6df",
   "metadata": {},
   "outputs": [],
   "source": [
    "from sklearn.model_selection import train_test_split"
   ]
  },
  {
   "cell_type": "code",
   "execution_count": 5,
   "id": "16b386fa-2067-427b-86a6-ec9e2d4986d1",
   "metadata": {},
   "outputs": [],
   "source": [
    "X = df.drop(['Rarity', 'Type', 'Name', 'Damage', 'Timestamp'], axis=1)\n",
    "y = df['Rarity']"
   ]
  },
  {
   "cell_type": "code",
   "execution_count": 7,
   "id": "d7075de9-d362-46d2-a229-b2775bae6d08",
   "metadata": {},
   "outputs": [],
   "source": [
    "X_train, X_test, y_train, y_test = train_test_split(X, y, test_size=0.2, random_state=42)"
   ]
  },
  {
   "cell_type": "markdown",
   "id": "f0a12cb5-b13d-415a-83e5-67e761274be1",
   "metadata": {},
   "source": [
    "## Establish Baseline"
   ]
  },
  {
   "cell_type": "code",
   "execution_count": 8,
   "id": "75973289-cd12-498b-a07c-834608dac7ce",
   "metadata": {},
   "outputs": [],
   "source": [
    "from sklearn.dummy import DummyClassifier"
   ]
  },
  {
   "cell_type": "code",
   "execution_count": 9,
   "id": "fcce72d9-8e03-4121-9ed6-77646843b781",
   "metadata": {},
   "outputs": [
    {
     "name": "stdout",
     "output_type": "stream",
     "text": [
      "Training Accuracy: 0.29\n",
      "Test Accuracy: 0.32\n"
     ]
    }
   ],
   "source": [
    "dummy_model = DummyClassifier(strategy='most_frequent', random_state=42)\n",
    "dummy_model.fit(X_train, y_train)\n",
    "print(\"Training Accuracy: {:.2f}\".format(dummy_model.score(X_train, y_train)))\n",
    "print(\"Test Accuracy: {:.2f}\".format(dummy_model.score(X_test, y_test)))"
   ]
  },
  {
   "cell_type": "markdown",
   "id": "aefc73de-3074-4e1b-8c07-998d93252f95",
   "metadata": {},
   "source": [
    "## Model 1: Random Forest"
   ]
  },
  {
   "cell_type": "code",
   "execution_count": 10,
   "id": "9d591fb6-262a-48f1-8c2d-eef6c086ddd9",
   "metadata": {},
   "outputs": [],
   "source": [
    "from sklearn.ensemble import RandomForestClassifier"
   ]
  },
  {
   "cell_type": "code",
   "execution_count": 11,
   "id": "50605d0b-26ae-40fe-9297-5fe4ff5bd5a7",
   "metadata": {},
   "outputs": [
    {
     "name": "stdout",
     "output_type": "stream",
     "text": [
      "Training Accuracy: 1.00\n",
      "Test Accuracy: 0.95\n"
     ]
    }
   ],
   "source": [
    "rf_model = RandomForestClassifier(n_estimators=100, random_state=42)\n",
    "rf_model.fit(X_train, y_train)\n",
    "print(\"Training Accuracy: {:.2f}\".format(rf_model.score(X_train, y_train)))\n",
    "print(\"Test Accuracy: {:.2f}\".format(rf_model.score(X_test, y_test)))"
   ]
  },
  {
   "cell_type": "markdown",
   "id": "0abebaf4-acd2-46e8-8aef-3750ddd8dffe",
   "metadata": {},
   "source": [
    "### Tuning Random Forest"
   ]
  },
  {
   "cell_type": "code",
   "execution_count": 12,
   "id": "04e7e818-13cf-4711-9af8-fe8927eaf832",
   "metadata": {},
   "outputs": [
    {
     "name": "stdout",
     "output_type": "stream",
     "text": [
      "Fitting 5 folds for each of 10 candidates, totalling 50 fits\n",
      "{'n_estimators': 85, 'min_samples_split': 5, 'min_samples_leaf': 1, 'max_features': 'log2', 'max_depth': 30, 'bootstrap': True}\n",
      "Test Accuracy: 0.94\n"
     ]
    }
   ],
   "source": [
    "from sklearn.model_selection import RandomizedSearchCV\n",
    "\n",
    "rf_param_grid = {\n",
    "    'n_estimators': range(25, 125, 5),\n",
    "    'max_features': ['auto', 'sqrt', 'log2'],\n",
    "    'max_depth': range(5, 40, 5),\n",
    "    'min_samples_split': [2, 5, 10],\n",
    "    'min_samples_leaf': [1, 2, 4],\n",
    "    'bootstrap': [True, False]\n",
    "}\n",
    "\n",
    "rf_model_random = RandomizedSearchCV(\n",
    "    rf_model, \n",
    "    param_distributions=rf_param_grid,\n",
    "    n_iter=10,\n",
    "    cv=None,\n",
    "    verbose=1,\n",
    "    random_state=42,\n",
    "    n_jobs=-1)\n",
    "\n",
    "rf_model_random.fit(X_train, y_train)\n",
    "\n",
    "print(rf_model_random.best_params_)\n",
    "print(\"Test Accuracy: {:.2f}\".format(rf_model_random.best_score_))"
   ]
  },
  {
   "cell_type": "markdown",
   "id": "d2e96e7b-49f9-4aed-92dd-887d6380b926",
   "metadata": {},
   "source": [
    "## Model 2: Gradient Boosting"
   ]
  },
  {
   "cell_type": "code",
   "execution_count": 13,
   "id": "516781a9-7061-4be6-a56a-6ca8cfac8a13",
   "metadata": {},
   "outputs": [],
   "source": [
    "from sklearn.ensemble import GradientBoostingClassifier"
   ]
  },
  {
   "cell_type": "code",
   "execution_count": 14,
   "id": "23a47846-ece0-410a-bc61-f111a6927ea5",
   "metadata": {},
   "outputs": [
    {
     "name": "stdout",
     "output_type": "stream",
     "text": [
      "Training Accuracy: 1.00\n",
      "Test Accuracy: 0.92\n"
     ]
    }
   ],
   "source": [
    "gb_model = GradientBoostingClassifier(random_state=42)\n",
    "gb_model.fit(X_train, y_train)\n",
    "print(\"Training Accuracy: {:.2f}\".format(gb_model.score(X_train, y_train)))\n",
    "print(\"Test Accuracy: {:.2f}\".format(gb_model.score(X_test, y_test)))"
   ]
  },
  {
   "cell_type": "markdown",
   "id": "0e44072d-ab1e-4da0-88bf-ddef19ba12b4",
   "metadata": {},
   "source": [
    "### Tuning Gradient Boosting"
   ]
  },
  {
   "cell_type": "code",
   "execution_count": 15,
   "id": "bc198764-86ee-4f7d-a7bd-c78d745a8b77",
   "metadata": {},
   "outputs": [
    {
     "name": "stdout",
     "output_type": "stream",
     "text": [
      "Fitting 5 folds for each of 10 candidates, totalling 50 fits\n",
      "{'subsample': 0.8, 'n_estimators': 200, 'min_samples_split': 6, 'min_samples_leaf': 3, 'max_features': None, 'max_depth': 7, 'learning_rate': 0.1}\n",
      "Test Accuracy: 0.94\n"
     ]
    }
   ],
   "source": [
    "gb_param_grid = {\n",
    "    'n_estimators': [50, 100, 200],\n",
    "    'learning_rate': [0.01, 0.1, 0.2],\n",
    "    'max_depth': [3, 5, 7],\n",
    "    'min_samples_split': [2, 4, 6],\n",
    "    'min_samples_leaf': [1, 2, 3],\n",
    "    'max_features': [None, 'sqrt', 'log2'],\n",
    "    'subsample': [0.6, 0.8, 1.0]\n",
    "}\n",
    "\n",
    "gb_model_random = RandomizedSearchCV(\n",
    "    gb_model, \n",
    "    param_distributions=gb_param_grid,\n",
    "    n_iter=10,\n",
    "    cv=None,\n",
    "    verbose=1,\n",
    "    random_state=42,\n",
    "    n_jobs=-1)\n",
    "\n",
    "gb_model_random.fit(X_train, y_train)\n",
    "\n",
    "print(gb_model_random.best_params_)\n",
    "print(\"Test Accuracy: {:.2f}\".format(gb_model_random.best_score_))"
   ]
  },
  {
   "cell_type": "markdown",
   "id": "7d197324-687c-4684-ae9a-8cac0ff59b41",
   "metadata": {},
   "source": [
    "## Model 3: Logistic Regression"
   ]
  },
  {
   "cell_type": "code",
   "execution_count": 16,
   "id": "bd12bd47-4024-4760-ace2-bad5e977c38e",
   "metadata": {},
   "outputs": [],
   "source": [
    "from sklearn.linear_model import LogisticRegression"
   ]
  },
  {
   "cell_type": "code",
   "execution_count": 17,
   "id": "1406ef8b-a241-486d-98b7-a9c4e4c68ba6",
   "metadata": {
    "scrolled": true
   },
   "outputs": [
    {
     "name": "stdout",
     "output_type": "stream",
     "text": [
      "Training Accuracy: 0.98\n",
      "Test Accuracy: 0.96\n"
     ]
    }
   ],
   "source": [
    "lr_model = LogisticRegression(multi_class='multinomial', solver='lbfgs', max_iter=1000, random_state=42)\n",
    "lr_model.fit(X_train, y_train)\n",
    "print(\"Training Accuracy: {:.2f}\".format(lr_model.score(X_train, y_train)))\n",
    "print(\"Test Accuracy: {:.2f}\".format(lr_model.score(X_test, y_test)))"
   ]
  },
  {
   "cell_type": "markdown",
   "id": "48f3e362-4966-4cc1-85b7-66a1e0d2e50c",
   "metadata": {},
   "source": [
    "### Tuning Logistic Regression"
   ]
  },
  {
   "cell_type": "code",
   "execution_count": 18,
   "id": "bd327012-63b6-4833-8737-8a28c3f1e251",
   "metadata": {},
   "outputs": [
    {
     "name": "stdout",
     "output_type": "stream",
     "text": [
      "Fitting 5 folds for each of 10 candidates, totalling 50 fits\n",
      "{'penalty': 'l2', 'C': 29.763514416313132}\n",
      "Test Accuracy: 0.99\n"
     ]
    },
    {
     "name": "stderr",
     "output_type": "stream",
     "text": [
      "/home/anthony/Clones/pyenv/versions/Bandersnatch/lib/python3.12/site-packages/sklearn/linear_model/_logistic.py:469: ConvergenceWarning: lbfgs failed to converge (status=1):\n",
      "STOP: TOTAL NO. of ITERATIONS REACHED LIMIT.\n",
      "\n",
      "Increase the number of iterations (max_iter) or scale the data as shown in:\n",
      "    https://scikit-learn.org/stable/modules/preprocessing.html\n",
      "Please also refer to the documentation for alternative solver options:\n",
      "    https://scikit-learn.org/stable/modules/linear_model.html#logistic-regression\n",
      "  n_iter_i = _check_optimize_result(\n",
      "/home/anthony/Clones/pyenv/versions/Bandersnatch/lib/python3.12/site-packages/sklearn/linear_model/_logistic.py:469: ConvergenceWarning: lbfgs failed to converge (status=1):\n",
      "STOP: TOTAL NO. of ITERATIONS REACHED LIMIT.\n",
      "\n",
      "Increase the number of iterations (max_iter) or scale the data as shown in:\n",
      "    https://scikit-learn.org/stable/modules/preprocessing.html\n",
      "Please also refer to the documentation for alternative solver options:\n",
      "    https://scikit-learn.org/stable/modules/linear_model.html#logistic-regression\n",
      "  n_iter_i = _check_optimize_result(\n",
      "/home/anthony/Clones/pyenv/versions/Bandersnatch/lib/python3.12/site-packages/sklearn/model_selection/_validation.py:547: FitFailedWarning: \n",
      "25 fits failed out of a total of 50.\n",
      "The score on these train-test partitions for these parameters will be set to nan.\n",
      "If these failures are not expected, you can try to debug them by setting error_score='raise'.\n",
      "\n",
      "Below are more details about the failures:\n",
      "--------------------------------------------------------------------------------\n",
      "25 fits failed with the following error:\n",
      "Traceback (most recent call last):\n",
      "  File \"/home/anthony/Clones/pyenv/versions/Bandersnatch/lib/python3.12/site-packages/sklearn/model_selection/_validation.py\", line 895, in _fit_and_score\n",
      "    estimator.fit(X_train, y_train, **fit_params)\n",
      "  File \"/home/anthony/Clones/pyenv/versions/Bandersnatch/lib/python3.12/site-packages/sklearn/base.py\", line 1474, in wrapper\n",
      "    return fit_method(estimator, *args, **kwargs)\n",
      "           ^^^^^^^^^^^^^^^^^^^^^^^^^^^^^^^^^^^^^^\n",
      "  File \"/home/anthony/Clones/pyenv/versions/Bandersnatch/lib/python3.12/site-packages/sklearn/linear_model/_logistic.py\", line 1172, in fit\n",
      "    solver = _check_solver(self.solver, self.penalty, self.dual)\n",
      "             ^^^^^^^^^^^^^^^^^^^^^^^^^^^^^^^^^^^^^^^^^^^^^^^^^^^\n",
      "  File \"/home/anthony/Clones/pyenv/versions/Bandersnatch/lib/python3.12/site-packages/sklearn/linear_model/_logistic.py\", line 67, in _check_solver\n",
      "    raise ValueError(\n",
      "ValueError: Solver lbfgs supports only 'l2' or None penalties, got l1 penalty.\n",
      "\n",
      "  warnings.warn(some_fits_failed_message, FitFailedWarning)\n",
      "/home/anthony/Clones/pyenv/versions/Bandersnatch/lib/python3.12/site-packages/sklearn/model_selection/_search.py:1051: UserWarning: One or more of the test scores are non-finite: [0.96375     nan 0.91125     nan     nan     nan 0.985   0.9875  0.98625\n",
      "     nan]\n",
      "  warnings.warn(\n"
     ]
    }
   ],
   "source": [
    "import numpy as np\n",
    "\n",
    "lr_param_grid = {\n",
    "    'C': np.logspace(-4, 4, 20),\n",
    "    'penalty': ['l1', 'l2'],\n",
    "}\n",
    "\n",
    "lr_model_random = RandomizedSearchCV(\n",
    "    lr_model, \n",
    "    param_distributions=lr_param_grid,\n",
    "    n_iter=10,\n",
    "    cv=None,\n",
    "    verbose=1,\n",
    "    random_state=42,\n",
    "    n_jobs=-1)\n",
    "\n",
    "lr_model_random.fit(X_train, y_train)\n",
    "\n",
    "print(lr_model_random.best_params_)\n",
    "print(\"Test Accuracy: {:.2f}\".format(lr_model_random.best_score_))"
   ]
  },
  {
   "cell_type": "markdown",
   "id": "0ea6a62d-4d34-4608-bb2e-e918463af244",
   "metadata": {},
   "source": [
    "## Best Model Evaluation: Logistic Regression"
   ]
  },
  {
   "cell_type": "code",
   "execution_count": 19,
   "id": "67657724-c2e5-4923-903f-d65a9493b162",
   "metadata": {},
   "outputs": [
    {
     "name": "stdout",
     "output_type": "stream",
     "text": [
      "Accuracy: 0.98\n"
     ]
    },
    {
     "data": {
      "image/png": "[encoded data removed]",
      "text/plain": [
       "<Figure size 1000x800 with 2 Axes>"
      ]
     },
     "metadata": {},
     "output_type": "display_data"
    }
   ],
   "source": [
    "import matplotlib.pyplot as plt\n",
    "import seaborn as sns\n",
    "from sklearn.metrics import accuracy_score, confusion_matrix\n",
    "\n",
    "best_model = lr_model_random.best_estimator_\n",
    "pred = best_model.predict(X_test)\n",
    "\n",
    "cm = confusion_matrix(y_test, pred)\n",
    "class_labels = best_model.classes_\n",
    "cm_df = pd.DataFrame(cm, index=class_labels, columns=class_labels)\n",
    "\n",
    "plt.figure(figsize=(10, 8))\n",
    "sns.heatmap(cm_df, annot=True, fmt=\"d\", cmap=\"Blues\")\n",
    "plt.title('Confusion Matrix')\n",
    "plt.xlabel('Predicted Labels')\n",
    "plt.ylabel('True Lables')\n",
    "\n",
    "\n",
    "print(\"Accuracy: {:.2f}\".format(accuracy_score(y_test, pred)))\n",
    "plt.show()"
   ]
  },
  {
   "cell_type": "code",
   "execution_count": 20,
   "id": "818d297c-321a-4fa5-931f-0bc00aa3ba99",
   "metadata": {},
   "outputs": [
    {
     "name": "stdout",
     "output_type": "stream",
     "text": [
      "              precision    recall  f1-score   support\n",
      "\n",
      "      Rank 0       0.97      1.00      0.98        64\n",
      "      Rank 1       1.00      0.96      0.98        53\n",
      "      Rank 2       1.00      1.00      1.00        37\n",
      "      Rank 3       1.00      1.00      1.00        26\n",
      "      Rank 4       0.94      1.00      0.97        16\n",
      "      Rank 5       1.00      0.75      0.86         4\n",
      "\n",
      "    accuracy                           0.98       200\n",
      "   macro avg       0.99      0.95      0.97       200\n",
      "weighted avg       0.99      0.98      0.98       200\n",
      "\n"
     ]
    }
   ],
   "source": [
    "from sklearn.metrics import classification_report\n",
    "print(classification_report(y_test, pred))"
   ]
  },
  {
   "cell_type": "markdown",
   "id": "bef22913-76b7-4990-b00e-771c1837f4f2",
   "metadata": {},
   "source": [
    "## Import Model for App Use"
   ]
  },
  {
   "cell_type": "code",
   "execution_count": 21,
   "id": "0e175a26-e288-4842-b345-79fe5f57f17e",
   "metadata": {},
   "outputs": [
    {
     "data": {
      "text/plain": [
       "['../app/models/best_model_noclassfeature.joblib']"
      ]
     },
     "execution_count": 21,
     "metadata": {},
     "output_type": "execute_result"
    }
   ],
   "source": [
    "import joblib\n",
    "\n",
    "joblib.dump(best_model, '../app/models/best_model_noclassfeature.joblib')"
   ]
  },
  {
   "cell_type": "code",
   "execution_count": null,
   "id": "490cba51-0b43-41c5-b3a2-4a239b23e8b1",
   "metadata": {},
   "outputs": [],
   "source": []
  }
 ],
 "metadata": {
  "kernelspec": {
   "display_name": "Bandersnatch",
   "language": "python",
   "name": "bandersnatch"
  },
  "language_info": {
   "codemirror_mode": {
    "name": "ipython",
    "version": 3
   },
   "file_extension": ".py",
   "mimetype": "text/x-python",
   "name": "python",
   "nbconvert_exporter": "python",
   "pygments_lexer": "ipython3",
   "version": "3.12.0"
  }
 },
 "nbformat": 4,
 "nbformat_minor": 5
}
