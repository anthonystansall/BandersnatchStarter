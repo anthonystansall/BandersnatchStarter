{
 "cells": [
  {
   "cell_type": "markdown",
   "id": "15964aee-504d-4b3c-a651-30eae0682eba",
   "metadata": {},
   "source": [
    "### Import Error?\n",
    "\n",
    "The Database initialization isn't getting the MongoDB connection and is trying to connect to a local instance instead. Since I'm not running MongoDB locally, it is failing. "
   ]
  },
  {
   "cell_type": "code",
   "execution_count": 1,
   "id": "d3b7bbcf-7d70-4210-9bc2-cc891f099cc4",
   "metadata": {},
   "outputs": [],
   "source": [
    "import sys\n",
    "import os\n",
    "sys.path.append(os.path.abspath('../app'))\n",
    "\n",
    "from data import Database"
   ]
  },
  {
   "cell_type": "code",
   "execution_count": 2,
   "id": "7acb3478-0e52-4df4-83e5-fffbb4eef3d1",
   "metadata": {},
   "outputs": [],
   "source": [
    "db = Database(\"monsters\")"
   ]
  },
  {
   "cell_type": "code",
   "execution_count": 3,
   "id": "28744e3f-6844-489a-806a-9825e72566c6",
   "metadata": {},
   "outputs": [
    {
     "data": {
      "text/html": [
       "<div>\n",
       "<style scoped>\n",
       "    .dataframe tbody tr th:only-of-type {\n",
       "        vertical-align: middle;\n",
       "    }\n",
       "\n",
       "    .dataframe tbody tr th {\n",
       "        vertical-align: top;\n",
       "    }\n",
       "\n",
       "    .dataframe thead th {\n",
       "        text-align: right;\n",
       "    }\n",
       "</style>\n",
       "<table border=\"1\" class=\"dataframe\">\n",
       "  <thead>\n",
       "    <tr style=\"text-align: right;\">\n",
       "      <th></th>\n",
       "      <th>Name</th>\n",
       "      <th>Type</th>\n",
       "      <th>Level</th>\n",
       "      <th>Rarity</th>\n",
       "      <th>Damage</th>\n",
       "      <th>Health</th>\n",
       "      <th>Energy</th>\n",
       "      <th>Sanity</th>\n",
       "      <th>Timestamp</th>\n",
       "    </tr>\n",
       "  </thead>\n",
       "  <tbody>\n",
       "    <tr>\n",
       "      <th>0</th>\n",
       "      <td>Faerie Dragon</td>\n",
       "      <td>Dragon</td>\n",
       "      <td>4</td>\n",
       "      <td>Rank 3</td>\n",
       "      <td>4d8+3</td>\n",
       "      <td>31.53</td>\n",
       "      <td>33.88</td>\n",
       "      <td>29.55</td>\n",
       "      <td>2024-03-28 14:22:54</td>\n",
       "    </tr>\n",
       "    <tr>\n",
       "      <th>1</th>\n",
       "      <td>Hell Hound</td>\n",
       "      <td>Demonic</td>\n",
       "      <td>1</td>\n",
       "      <td>Rank 3</td>\n",
       "      <td>1d8</td>\n",
       "      <td>5.44</td>\n",
       "      <td>10.65</td>\n",
       "      <td>6.87</td>\n",
       "      <td>2024-03-28 14:22:54</td>\n",
       "    </tr>\n",
       "    <tr>\n",
       "      <th>2</th>\n",
       "      <td>Kobold Knight</td>\n",
       "      <td>Devilkin</td>\n",
       "      <td>9</td>\n",
       "      <td>Rank 4</td>\n",
       "      <td>9d10</td>\n",
       "      <td>90.11</td>\n",
       "      <td>88.39</td>\n",
       "      <td>90.53</td>\n",
       "      <td>2024-03-28 14:22:54</td>\n",
       "    </tr>\n",
       "    <tr>\n",
       "      <th>3</th>\n",
       "      <td>Flame Elemental</td>\n",
       "      <td>Elemental</td>\n",
       "      <td>8</td>\n",
       "      <td>Rank 1</td>\n",
       "      <td>8d4</td>\n",
       "      <td>32.98</td>\n",
       "      <td>32.94</td>\n",
       "      <td>31.27</td>\n",
       "      <td>2024-03-28 14:22:54</td>\n",
       "    </tr>\n",
       "    <tr>\n",
       "      <th>4</th>\n",
       "      <td>Wyvern</td>\n",
       "      <td>Dragon</td>\n",
       "      <td>6</td>\n",
       "      <td>Rank 4</td>\n",
       "      <td>6d10</td>\n",
       "      <td>63.24</td>\n",
       "      <td>62.92</td>\n",
       "      <td>61.66</td>\n",
       "      <td>2024-03-28 14:22:54</td>\n",
       "    </tr>\n",
       "  </tbody>\n",
       "</table>\n",
       "</div>"
      ],
      "text/plain": [
       "              Name       Type  Level  Rarity Damage  Health  Energy  Sanity  \\\n",
       "0    Faerie Dragon     Dragon      4  Rank 3  4d8+3   31.53   33.88   29.55   \n",
       "1       Hell Hound    Demonic      1  Rank 3    1d8    5.44   10.65    6.87   \n",
       "2    Kobold Knight   Devilkin      9  Rank 4   9d10   90.11   88.39   90.53   \n",
       "3  Flame Elemental  Elemental      8  Rank 1    8d4   32.98   32.94   31.27   \n",
       "4           Wyvern     Dragon      6  Rank 4   6d10   63.24   62.92   61.66   \n",
       "\n",
       "             Timestamp  \n",
       "0  2024-03-28 14:22:54  \n",
       "1  2024-03-28 14:22:54  \n",
       "2  2024-03-28 14:22:54  \n",
       "3  2024-03-28 14:22:54  \n",
       "4  2024-03-28 14:22:54  "
      ]
     },
     "execution_count": 3,
     "metadata": {},
     "output_type": "execute_result"
    }
   ],
   "source": [
    "df = db.dataframe()\n",
    "df.head()"
   ]
  },
  {
   "cell_type": "code",
   "execution_count": null,
   "id": "32cce297-810a-4108-a45e-e1e746cfe5e6",
   "metadata": {},
   "outputs": [],
   "source": []
  }
 ],
 "metadata": {
  "kernelspec": {
   "display_name": "Bandersnatch Kernel",
   "language": "python",
   "name": "bandersnatch_kernel"
  },
  "language_info": {
   "codemirror_mode": {
    "name": "ipython",
    "version": 3
   },
   "file_extension": ".py",
   "mimetype": "text/x-python",
   "name": "python",
   "nbconvert_exporter": "python",
   "pygments_lexer": "ipython3",
   "version": "3.12.0"
  }
 },
 "nbformat": 4,
 "nbformat_minor": 5
}
